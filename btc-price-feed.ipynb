{
 "cells": [
  {
   "cell_type": "code",
   "execution_count": 2,
   "id": "144107e8-dd5b-41e4-a616-3a9d4d8a370d",
   "metadata": {},
   "outputs": [
    {
     "name": "stdout",
     "output_type": "stream",
     "text": [
      "{'time': {'updated': 'Sep 17, 2021 04:10:00 UTC', 'updatedISO': '2021-09-17T04:10:00+00:00', 'updateduk': 'Sep 17, 2021 at 05:10 BST'}, 'disclaimer': 'This data was produced from the CoinDesk Bitcoin Price Index (USD). Non-USD currency data converted using hourly conversion rate from openexchangerates.org', 'chartName': 'Bitcoin', 'bpi': {'USD': {'code': 'USD', 'symbol': '&#36;', 'rate': '47,874.5233', 'description': 'United States Dollar', 'rate_float': 47874.5233}, 'GBP': {'code': 'GBP', 'symbol': '&pound;', 'rate': '34,705.7739', 'description': 'British Pound Sterling', 'rate_float': 34705.7739}, 'EUR': {'code': 'EUR', 'symbol': '&euro;', 'rate': '40,679.0304', 'description': 'Euro', 'rate_float': 40679.0304}}}\n"
     ]
    }
   ],
   "source": [
    "import requests\n",
    "response = requests.get('https://api.coindesk.com/v1/bpi/currentprice.json')\n",
    "data = response.json()\n",
    "print(data)"
   ]
  },
  {
   "cell_type": "code",
   "execution_count": 6,
   "id": "fd960090-93ef-4043-b4bf-e27f5d73bd0c",
   "metadata": {},
   "outputs": [
    {
     "data": {
      "text/plain": [
       "{'USD': {'code': 'USD',\n",
       "  'symbol': '&#36;',\n",
       "  'rate': '47,874.5233',\n",
       "  'description': 'United States Dollar',\n",
       "  'rate_float': 47874.5233},\n",
       " 'GBP': {'code': 'GBP',\n",
       "  'symbol': '&pound;',\n",
       "  'rate': '34,705.7739',\n",
       "  'description': 'British Pound Sterling',\n",
       "  'rate_float': 34705.7739},\n",
       " 'EUR': {'code': 'EUR',\n",
       "  'symbol': '&euro;',\n",
       "  'rate': '40,679.0304',\n",
       "  'description': 'Euro',\n",
       "  'rate_float': 40679.0304}}"
      ]
     },
     "execution_count": 6,
     "metadata": {},
     "output_type": "execute_result"
    }
   ],
   "source": [
    "data['bpi']"
   ]
  },
  {
   "cell_type": "code",
   "execution_count": 7,
   "id": "4907791e-b8b3-42ad-999a-225ba1b1d98e",
   "metadata": {},
   "outputs": [
    {
     "data": {
      "text/plain": [
       "'47,874.5233'"
      ]
     },
     "execution_count": 7,
     "metadata": {},
     "output_type": "execute_result"
    }
   ],
   "source": [
    "data['bpi']['USD']['rate']"
   ]
  },
  {
   "cell_type": "code",
   "execution_count": null,
   "id": "bb1e8b09-37b6-4066-ae6b-2f9495b02683",
   "metadata": {},
   "outputs": [],
   "source": [
    "data['bpi']['EUR']['rate']"
   ]
  }
 ],
 "metadata": {
  "kernelspec": {
   "display_name": "Python 3 (ipykernel)",
   "language": "python",
   "name": "python3"
  },
  "language_info": {
   "codemirror_mode": {
    "name": "ipython",
    "version": 3
   },
   "file_extension": ".py",
   "mimetype": "text/x-python",
   "name": "python",
   "nbconvert_exporter": "python",
   "pygments_lexer": "ipython3",
   "version": "3.7.3"
  }
 },
 "nbformat": 4,
 "nbformat_minor": 5
}
