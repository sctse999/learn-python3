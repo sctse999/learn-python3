{
 "cells": [
  {
   "cell_type": "code",
   "execution_count": null,
   "id": "144107e8-dd5b-41e4-a616-3a9d4d8a370d",
   "metadata": {},
   "outputs": [],
   "source": [
    "import requests\n",
    "response = requests.get('https://api.coindesk.com/v1/bpi/currentprice.json')\n",
    "data = response.json()\n",
    "print(data)"
   ]
  },
  {
   "cell_type": "code",
   "execution_count": null,
   "id": "fd960090-93ef-4043-b4bf-e27f5d73bd0c",
   "metadata": {},
   "outputs": [],
   "source": [
    "data['bpi']"
   ]
  },
  {
   "cell_type": "code",
   "execution_count": null,
   "id": "4907791e-b8b3-42ad-999a-225ba1b1d98e",
   "metadata": {},
   "outputs": [],
   "source": [
    "data['bpi']['USD']['rate']"
   ]
  },
  {
   "cell_type": "code",
   "execution_count": null,
   "id": "bb1e8b09-37b6-4066-ae6b-2f9495b02683",
   "metadata": {},
   "outputs": [],
   "source": [
    "data['bpi']['EUR']['rate']"
   ]
  }
 ],
 "metadata": {
  "kernelspec": {
   "display_name": "Python 3 (ipykernel)",
   "language": "python",
   "name": "python3"
  },
  "language_info": {
   "codemirror_mode": {
    "name": "ipython",
    "version": 3
   },
   "file_extension": ".py",
   "mimetype": "text/x-python",
   "name": "python",
   "nbconvert_exporter": "python",
   "pygments_lexer": "ipython3",
   "version": "3.7.3"
  }
 },
 "nbformat": 4,
 "nbformat_minor": 5
}
